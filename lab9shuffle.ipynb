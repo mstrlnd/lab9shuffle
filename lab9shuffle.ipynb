{
 "cells": [
  {
   "cell_type": "code",
   "execution_count": 1,
   "id": "38fbe22d-47d9-4ee0-9d26-20b25971b8e8",
   "metadata": {},
   "outputs": [],
   "source": [
    "#imports\n",
    "import pandas as pd\n",
    "import seaborn as sns\n",
    "import matplotlib.pylab as plt\n",
    "import numpy as np"
   ]
  },
  {
   "cell_type": "markdown",
   "id": "65c47669-9612-4687-a278-188f49995352",
   "metadata": {},
   "source": [
    "# Horror Movie Survivors"
   ]
  },
  {
   "cell_type": "code",
   "execution_count": 2,
   "id": "3edaf3e1-bdb6-4a3e-9a0d-b13af62f69b5",
   "metadata": {},
   "outputs": [
    {
     "data": {
      "text/plain": [
       "(485, 3)"
      ]
     },
     "execution_count": 2,
     "metadata": {},
     "output_type": "execute_result"
    }
   ],
   "source": [
    "#load data \n",
    "df = pd.read_csv('slasher.csv')\n",
    "df.shape"
   ]
  },
  {
   "cell_type": "code",
   "execution_count": 3,
   "id": "ad4ea2e3-5628-4d67-862a-e9b2e5955395",
   "metadata": {},
   "outputs": [
    {
     "data": {
      "text/html": [
       "<div>\n",
       "<style scoped>\n",
       "    .dataframe tbody tr th:only-of-type {\n",
       "        vertical-align: middle;\n",
       "    }\n",
       "\n",
       "    .dataframe tbody tr th {\n",
       "        vertical-align: top;\n",
       "    }\n",
       "\n",
       "    .dataframe thead th {\n",
       "        text-align: right;\n",
       "    }\n",
       "</style>\n",
       "<table border=\"1\" class=\"dataframe\">\n",
       "  <thead>\n",
       "    <tr style=\"text-align: right;\">\n",
       "      <th></th>\n",
       "      <th>Unnamed: 0</th>\n",
       "      <th>gender</th>\n",
       "      <th>survival</th>\n",
       "    </tr>\n",
       "  </thead>\n",
       "  <tbody>\n",
       "    <tr>\n",
       "      <th>0</th>\n",
       "      <td>1</td>\n",
       "      <td>Female</td>\n",
       "      <td>Survives</td>\n",
       "    </tr>\n",
       "    <tr>\n",
       "      <th>1</th>\n",
       "      <td>2</td>\n",
       "      <td>Female</td>\n",
       "      <td>Survives</td>\n",
       "    </tr>\n",
       "    <tr>\n",
       "      <th>2</th>\n",
       "      <td>3</td>\n",
       "      <td>Female</td>\n",
       "      <td>Survives</td>\n",
       "    </tr>\n",
       "    <tr>\n",
       "      <th>3</th>\n",
       "      <td>4</td>\n",
       "      <td>Female</td>\n",
       "      <td>Survives</td>\n",
       "    </tr>\n",
       "    <tr>\n",
       "      <th>4</th>\n",
       "      <td>5</td>\n",
       "      <td>Female</td>\n",
       "      <td>Survives</td>\n",
       "    </tr>\n",
       "  </tbody>\n",
       "</table>\n",
       "</div>"
      ],
      "text/plain": [
       "   Unnamed: 0  gender  survival\n",
       "0           1  Female  Survives\n",
       "1           2  Female  Survives\n",
       "2           3  Female  Survives\n",
       "3           4  Female  Survives\n",
       "4           5  Female  Survives"
      ]
     },
     "execution_count": 3,
     "metadata": {},
     "output_type": "execute_result"
    }
   ],
   "source": [
    "#preview\n",
    "df.head()"
   ]
  },
  {
   "cell_type": "code",
   "execution_count": 4,
   "id": "04343733-f24f-4228-85ba-4c79496a299d",
   "metadata": {},
   "outputs": [
    {
     "data": {
      "text/html": [
       "<div>\n",
       "<style scoped>\n",
       "    .dataframe tbody tr th:only-of-type {\n",
       "        vertical-align: middle;\n",
       "    }\n",
       "\n",
       "    .dataframe tbody tr th {\n",
       "        vertical-align: top;\n",
       "    }\n",
       "\n",
       "    .dataframe thead th {\n",
       "        text-align: right;\n",
       "    }\n",
       "</style>\n",
       "<table border=\"1\" class=\"dataframe\">\n",
       "  <thead>\n",
       "    <tr style=\"text-align: right;\">\n",
       "      <th></th>\n",
       "      <th></th>\n",
       "      <th>Unnamed: 0</th>\n",
       "    </tr>\n",
       "    <tr>\n",
       "      <th>gender</th>\n",
       "      <th>survival</th>\n",
       "      <th></th>\n",
       "    </tr>\n",
       "  </thead>\n",
       "  <tbody>\n",
       "    <tr>\n",
       "      <th rowspan=\"2\" valign=\"top\">Female</th>\n",
       "      <th>Dies</th>\n",
       "      <td>172</td>\n",
       "    </tr>\n",
       "    <tr>\n",
       "      <th>Survives</th>\n",
       "      <td>50</td>\n",
       "    </tr>\n",
       "    <tr>\n",
       "      <th rowspan=\"2\" valign=\"top\">Male</th>\n",
       "      <th>Dies</th>\n",
       "      <td>228</td>\n",
       "    </tr>\n",
       "    <tr>\n",
       "      <th>Survives</th>\n",
       "      <td>35</td>\n",
       "    </tr>\n",
       "  </tbody>\n",
       "</table>\n",
       "</div>"
      ],
      "text/plain": [
       "                 Unnamed: 0\n",
       "gender survival            \n",
       "Female Dies             172\n",
       "       Survives          50\n",
       "Male   Dies             228\n",
       "       Survives          35"
      ]
     },
     "execution_count": 4,
     "metadata": {},
     "output_type": "execute_result"
    }
   ],
   "source": [
    "table = df.groupby(['gender', 'survival']).count()\n",
    "table"
   ]
  },
  {
   "cell_type": "code",
   "execution_count": 5,
   "id": "e8f04b7a-79fb-48ce-a054-6a75d0789cd5",
   "metadata": {},
   "outputs": [],
   "source": [
    "#pull numbers from table\n",
    "female_dies = table['Unnamed: 0'].iloc[0]\n",
    "female_survivors = table['Unnamed: 0'].iloc[1]\n",
    "male_dies = table['Unnamed: 0'].iloc[2]\n",
    "male_survivors = table['Unnamed: 0'].iloc[3]"
   ]
  },
  {
   "cell_type": "code",
   "execution_count": 6,
   "id": "645e0489-9ea6-4845-8f5e-b32fd19ed7c9",
   "metadata": {},
   "outputs": [
    {
     "data": {
      "text/plain": [
       "22.52252252252252"
      ]
     },
     "execution_count": 6,
     "metadata": {},
     "output_type": "execute_result"
    }
   ],
   "source": [
    "#calculate female survival rate\n",
    "female_survival_rate = female_survivors/(female_survivors + female_dies) * 100\n",
    "female_survival_rate"
   ]
  },
  {
   "cell_type": "code",
   "execution_count": 7,
   "id": "cbcdff36-420b-408d-87e4-74399d05f7cc",
   "metadata": {},
   "outputs": [
    {
     "data": {
      "text/plain": [
       "13.307984790874524"
      ]
     },
     "execution_count": 7,
     "metadata": {},
     "output_type": "execute_result"
    }
   ],
   "source": [
    "#calculate male survival rate\n",
    "male_survival_rate = male_survivors/(male_survivors + male_dies) * 100\n",
    "male_survival_rate"
   ]
  },
  {
   "cell_type": "code",
   "execution_count": 8,
   "id": "624e4748-d58d-48f2-8aa9-ed1e40b35854",
   "metadata": {},
   "outputs": [
    {
     "data": {
      "text/plain": [
       "9.214537731647997"
      ]
     },
     "execution_count": 8,
     "metadata": {},
     "output_type": "execute_result"
    }
   ],
   "source": [
    "#calculated difference in survivor percentage\n",
    "diff = female_survival_rate - male_survival_rate\n",
    "diff"
   ]
  },
  {
   "cell_type": "code",
   "execution_count": 13,
   "id": "5f439731-a30c-4d40-93e9-80200904daa0",
   "metadata": {},
   "outputs": [
    {
     "data": {
      "text/html": [
       "<div>\n",
       "<style scoped>\n",
       "    .dataframe tbody tr th:only-of-type {\n",
       "        vertical-align: middle;\n",
       "    }\n",
       "\n",
       "    .dataframe tbody tr th {\n",
       "        vertical-align: top;\n",
       "    }\n",
       "\n",
       "    .dataframe thead th {\n",
       "        text-align: right;\n",
       "    }\n",
       "</style>\n",
       "<table border=\"1\" class=\"dataframe\">\n",
       "  <thead>\n",
       "    <tr style=\"text-align: right;\">\n",
       "      <th></th>\n",
       "      <th>diff</th>\n",
       "    </tr>\n",
       "  </thead>\n",
       "  <tbody>\n",
       "    <tr>\n",
       "      <th>0</th>\n",
       "      <td>0.077073</td>\n",
       "    </tr>\n",
       "    <tr>\n",
       "      <th>1</th>\n",
       "      <td>-3.245641</td>\n",
       "    </tr>\n",
       "    <tr>\n",
       "      <th>2</th>\n",
       "      <td>-4.076320</td>\n",
       "    </tr>\n",
       "    <tr>\n",
       "      <th>3</th>\n",
       "      <td>-0.753605</td>\n",
       "    </tr>\n",
       "    <tr>\n",
       "      <th>4</th>\n",
       "      <td>-5.737677</td>\n",
       "    </tr>\n",
       "  </tbody>\n",
       "</table>\n",
       "</div>"
      ],
      "text/plain": [
       "       diff\n",
       "0  0.077073\n",
       "1 -3.245641\n",
       "2 -4.076320\n",
       "3 -0.753605\n",
       "4 -5.737677"
      ]
     },
     "execution_count": 13,
     "metadata": {},
     "output_type": "execute_result"
    }
   ],
   "source": [
    "#shuffle 500 times randomly assigning survive or not to gender \n",
    "#record differences in survial rate in a dataframe\n",
    "diffs = []\n",
    "for i in range(500):\n",
    "    #np.random.shuffle(df['survival'])\n",
    "    df['survival'] = np.random.permutation(df['survival'].values)\n",
    "    table = df.groupby(['gender', 'survival']).count()\n",
    "    female_dies = table['Unnamed: 0'].iloc[0]\n",
    "    female_survivors = table['Unnamed: 0'].iloc[1]\n",
    "    male_dies = table['Unnamed: 0'].iloc[2]\n",
    "    male_survivors = table['Unnamed: 0'].iloc[3]\n",
    "    diff = female_survivors/(female_survivors + female_dies) - male_survivors/(male_survivors + male_dies)\n",
    "    diffs.append(diff*100)\n",
    "\n",
    "df2 = pd.DataFrame(diffs, columns =['diff'])\n",
    "df2.head()"
   ]
  },
  {
   "cell_type": "code",
   "execution_count": 14,
   "id": "0d502a53-623f-4f8a-acbe-2895fd4f7903",
   "metadata": {},
   "outputs": [
    {
     "data": {
      "text/plain": [
       "(500, 1)"
      ]
     },
     "execution_count": 14,
     "metadata": {},
     "output_type": "execute_result"
    }
   ],
   "source": [
    "df2.shape"
   ]
  },
  {
   "cell_type": "code",
   "execution_count": 15,
   "id": "ad21b067-ce45-47dc-9611-7d03641478f9",
   "metadata": {},
   "outputs": [
    {
     "data": {
      "text/html": [
       "<div>\n",
       "<style scoped>\n",
       "    .dataframe tbody tr th:only-of-type {\n",
       "        vertical-align: middle;\n",
       "    }\n",
       "\n",
       "    .dataframe tbody tr th {\n",
       "        vertical-align: top;\n",
       "    }\n",
       "\n",
       "    .dataframe thead th {\n",
       "        text-align: right;\n",
       "    }\n",
       "</style>\n",
       "<table border=\"1\" class=\"dataframe\">\n",
       "  <thead>\n",
       "    <tr style=\"text-align: right;\">\n",
       "      <th></th>\n",
       "      <th>diff</th>\n",
       "    </tr>\n",
       "  </thead>\n",
       "  <tbody>\n",
       "    <tr>\n",
       "      <th>count</th>\n",
       "      <td>500.000000</td>\n",
       "    </tr>\n",
       "    <tr>\n",
       "      <th>mean</th>\n",
       "      <td>-0.107337</td>\n",
       "    </tr>\n",
       "    <tr>\n",
       "      <th>std</th>\n",
       "      <td>3.358388</td>\n",
       "    </tr>\n",
       "    <tr>\n",
       "      <th>min</th>\n",
       "      <td>-9.891070</td>\n",
       "    </tr>\n",
       "    <tr>\n",
       "      <th>25%</th>\n",
       "      <td>-2.414962</td>\n",
       "    </tr>\n",
       "    <tr>\n",
       "      <th>50%</th>\n",
       "      <td>-0.338266</td>\n",
       "    </tr>\n",
       "    <tr>\n",
       "      <th>75%</th>\n",
       "      <td>2.569109</td>\n",
       "    </tr>\n",
       "    <tr>\n",
       "      <th>max</th>\n",
       "      <td>10.875895</td>\n",
       "    </tr>\n",
       "  </tbody>\n",
       "</table>\n",
       "</div>"
      ],
      "text/plain": [
       "             diff\n",
       "count  500.000000\n",
       "mean    -0.107337\n",
       "std      3.358388\n",
       "min     -9.891070\n",
       "25%     -2.414962\n",
       "50%     -0.338266\n",
       "75%      2.569109\n",
       "max     10.875895"
      ]
     },
     "execution_count": 15,
     "metadata": {},
     "output_type": "execute_result"
    }
   ],
   "source": [
    "#stats from our shuffle\n",
    "df2.describe()"
   ]
  },
  {
   "cell_type": "code",
   "execution_count": 16,
   "id": "5e6f592c-13c5-491b-9700-e0f97df510a7",
   "metadata": {},
   "outputs": [
    {
     "data": {
      "text/plain": [
       "<matplotlib.lines.Line2D at 0x7ff7407f5be0>"
      ]
     },
     "execution_count": 16,
     "metadata": {},
     "output_type": "execute_result"
    },
    {
     "data": {
      "image/png": "[encoded data removed]",
      "text/plain": [
       "<Figure size 432x288 with 1 Axes>"
      ]
     },
     "metadata": {
      "needs_background": "light"
     },
     "output_type": "display_data"
    }
   ],
   "source": [
    "#plot results of shuffle, add red line for actual difference in survival percentage\n",
    "plt = sns.histplot(data=df2, x='diff')\n",
    "plt.axvline(9.2, 0,1, linewidth=3, color='r')"
   ]
  },
  {
   "cell_type": "markdown",
   "id": "397e1e31-9e5b-47b5-b3bb-8f426318d80f",
   "metadata": {},
   "source": [
    "# Titanic Survivors"
   ]
  },
  {
   "cell_type": "code",
   "execution_count": null,
   "id": "8abf2fb7-0c2a-4f74-8e5d-59da6f666bb6",
   "metadata": {},
   "outputs": [],
   "source": [
    "#load data \n",
    "df = pd.read_csv('titanic.csv')\n",
    "df.shape"
   ]
  },
  {
   "cell_type": "code",
   "execution_count": null,
   "id": "b0d5b4ab-f65f-48e5-9098-26944c169d60",
   "metadata": {},
   "outputs": [],
   "source": [
    "df.head()"
   ]
  },
  {
   "cell_type": "code",
   "execution_count": null,
   "id": "5c6ab5da-7c22-44c7-9306-0569304ab589",
   "metadata": {},
   "outputs": [],
   "source": [
    "#calculate mean fare (ticket) price of survivor group and victim group\n",
    "table = df.groupby(['survived'])['fare'].mean()\n",
    "table"
   ]
  },
  {
   "cell_type": "code",
   "execution_count": null,
   "id": "7c504629-492c-488a-8648-1756ad596f5d",
   "metadata": {},
   "outputs": [],
   "source": [
    "#calculate difference in means\n",
    "mean_vics = table.iloc[0]\n",
    "mean_survives = table.iloc[1]\n",
    "diff = mean_survives - mean_vics\n",
    "diff"
   ]
  },
  {
   "cell_type": "code",
   "execution_count": null,
   "id": "14a36105-6bd2-4e24-bcb8-20a511f8c414",
   "metadata": {},
   "outputs": [],
   "source": [
    "#shuffle data 500 times and save the difference in means\n",
    "#randomly assigning survival to each passenger\n",
    "diffs = []\n",
    "for i in range(500):\n",
    "    df['survived'] = np.random.permutation(df['survived'].values)\n",
    "    table = df.groupby(['survived'])['fare'].mean()\n",
    "    mean_vics = table.iloc[0]\n",
    "    mean_survives = table.iloc[1]\n",
    "    diff = mean_survives - mean_vics\n",
    "    diffs.append(diff)\n",
    "\n",
    "df2 = pd.DataFrame(diffs, columns =['diff'])\n",
    "df2.head()"
   ]
  },
  {
   "cell_type": "code",
   "execution_count": null,
   "id": "735f5338-3cd8-4cf2-a98f-d7c184f17950",
   "metadata": {},
   "outputs": [],
   "source": [
    "#plot the difference in means from shuffles (blue histogram) \n",
    "plt = sns.histplot(data=df2, x='diff')\n",
    "#add red line marking the actual difference in the data\n",
    "plt.axvline(27.42, 0,1, linewidth=3, color='r')"
   ]
  },
  {
   "cell_type": "code",
   "execution_count": null,
   "id": "b747d3a8-cbba-4586-93ba-c3b6dbcca153",
   "metadata": {},
   "outputs": [],
   "source": [
    "df2['diff'].describe()"
   ]
  },
  {
   "cell_type": "code",
   "execution_count": null,
   "id": "fa006189-20c7-4546-bd20-bd4bbcb23c03",
   "metadata": {},
   "outputs": [],
   "source": [
    "#reloading titanic data since we shuffled the survivors\n",
    "df = pd.read_csv('titanic.csv')\n",
    "#List all the variables and check the datatypes.  \"object\" is categorical.  \"int64\" and \"float64\" are numerical \n",
    "df.dtypes"
   ]
  },
  {
   "cell_type": "code",
   "execution_count": null,
   "id": "c984cbe3-495c-49d1-aed9-14e752747864",
   "metadata": {},
   "outputs": [],
   "source": []
  }
 ],
 "metadata": {
  "kernelspec": {
   "display_name": "Python 3 (ipykernel)",
   "language": "python",
   "name": "python3"
  },
  "language_info": {
   "codemirror_mode": {
    "name": "ipython",
    "version": 3
   },
   "file_extension": ".py",
   "mimetype": "text/x-python",
   "name": "python",
   "nbconvert_exporter": "python",
   "pygments_lexer": "ipython3",
   "version": "3.9.12"
  }
 },
 "nbformat": 4,
 "nbformat_minor": 5
}
